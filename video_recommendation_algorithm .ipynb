{
 "cells": [
  {
   "cell_type": "markdown",
   "metadata": {},
   "source": [
    "### 1. Setup and Import Libraries\n"
   ]
  },
  {
   "cell_type": "code",
   "execution_count": null,
   "metadata": {},
   "outputs": [],
   "source": [
    "import pandas as pd\n",
    "from sklearn.feature_extraction.text import TfidfVectorizer\n",
    "from sklearn.metrics.pairwise import cosine_similarity"
   ]
  },
  {
   "cell_type": "code",
   "execution_count": null,
   "metadata": {},
   "outputs": [],
   "source": [
    "# Example user and video data\n",
    "user_data = {\n",
    "    'user_id': [1, 2, 3],\n",
    "    'watch_history': [\n",
    "        ['Tech Review', 'AI in Healthcare', 'Python Tutorial'],\n",
    "        ['Travel Vlog', 'Food Recipe', 'Cultural Documentary'],\n",
    "        ['AI in Healthcare', 'Deep Learning Lecture', 'Tech Review']\n",
    "    ],\n",
    "    'language': ['English', 'Spanish', 'English'],\n",
    "    'location': ['USA', 'Spain', 'UK']\n",
    "}\n",
    "\n",
    "video_data = {\n",
    "    'video_id': [101, 102, 103, 104, 105, 106],\n",
    "    'title': ['Tech Review', 'AI in Healthcare', 'Python Tutorial', 'Travel Vlog', 'Food Recipe', 'Cultural Documentary'],\n",
    "    'category': ['Technology', 'Health', 'Education', 'Travel', 'Food', 'Documentary'],\n",
    "    'rating': [4.5, 4.8, 4.7, 4.2, 4.3, 4.6],\n",
    "    'view_counts': [12000, 18000, 15000, 10000, 11000, 13000],\n",
    "    'share_counts': [300, 500, 400, 200, 250, 300]\n",
    "}"
   ]
  },
  {
   "cell_type": "code",
   "execution_count": null,
   "metadata": {},
   "outputs": [],
   "source": [
    "# Converting data to DataFrames\n",
    "users_df = pd.DataFrame(user_data)\n",
    "videos_df = pd.DataFrame(video_data)"
   ]
  },
  {
   "cell_type": "markdown",
   "metadata": {},
   "source": [
    "### 2. Content-Based Filtering\n"
   ]
  },
  {
   "cell_type": "code",
   "execution_count": null,
   "metadata": {},
   "outputs": [],
   "source": [
    "# Create a TF-IDF Vectorizer for video titles\n",
    "tfidf_vectorizer = TfidfVectorizer()"
   ]
  },
  {
   "cell_type": "code",
   "execution_count": null,
   "metadata": {},
   "outputs": [],
   "source": [
    "# Fit and transform the video titles\n",
    "tfidf_matrix = tfidf_vectorizer.fit_transform(videos_df['title'])"
   ]
  },
  {
   "cell_type": "code",
   "execution_count": null,
   "metadata": {},
   "outputs": [],
   "source": [
    "# Compute the cosine similarity between all videos\n",
    "cosine_sim_matrix = cosine_similarity(tfidf_matrix, tfidf_matrix)"
   ]
  },
  {
   "cell_type": "code",
   "execution_count": null,
   "metadata": {},
   "outputs": [],
   "source": [
    "# Function to recommend videos based on content similarity\n",
    "def recommend_videos(user_id, user_watch_history, n_recommendations=3):\n",
    "    watched_video_indices = []\n",
    "    for video_title in user_watch_history:\n",
    "        index = videos_df[videos_df['title'] == video_title].index[0]\n",
    "        watched_video_indices.append(index)\n",
    "    \n",
    "    similarity_scores = sum(cosine_sim_matrix[watched_video_indices])\n",
    "    similar_videos_indices = similarity_scores.argsort()[-(n_recommendations+len(user_watch_history)):-len(user_watch_history)]\n",
    "    \n",
    "    recommended_videos = videos_df.iloc[similar_videos_indices][['title', 'category', 'rating']]\n",
    "    return recommended_videos"
   ]
  },
  {
   "cell_type": "code",
   "execution_count": null,
   "metadata": {},
   "outputs": [],
   "source": [
    "# Example: Get recommendations for user 1\n",
    "user_id = 1\n",
    "user_watch_history = users_df.loc[users_df['user_id'] == user_id, 'watch_history'].values[0]\n",
    "recommendations = recommend_videos(user_id, user_watch_history)\n",
    "print(\"Recommended Videos for User 1:\")\n",
    "print(recommendations)"
   ]
  },
  {
   "cell_type": "markdown",
   "metadata": {},
   "source": [
    "### 3. Collaborative Filtering"
   ]
  },
  {
   "cell_type": "code",
   "execution_count": null,
   "metadata": {},
   "outputs": [],
   "source": [
    "# Function to recommend videos based on what similar users have watched\n",
    "def collaborative_filtering(user_id, users_df, n_recommendations=3):\n",
    "    user_watch_history = users_df.loc[users_df['user_id'] == user_id, 'watch_history'].values[0]\n",
    "    \n",
    "    other_users = users_df[users_df['user_id'] != user_id]\n",
    "    similar_users = other_users[other_users['language'] == users_df.loc[users_df['user_id'] == user_id, 'language'].values[0]]\n",
    "    \n",
    "    recommendations = []\n",
    "    for index, row in similar_users.iterrows():\n",
    "        for video in row['watch_history']:\n",
    "            if video not in user_watch_history and video not in recommendations:\n",
    "                recommendations.append(video)\n",
    "    \n",
    "    recommended_videos = videos_df[videos_df['title'].isin(recommendations)].head(n_recommendations)\n",
    "    return recommended_videos"
   ]
  },
  {
   "cell_type": "code",
   "execution_count": null,
   "metadata": {},
   "outputs": [],
   "source": [
    "# Example: Get recommendations for user 1 using collaborative filtering\n",
    "collab_recommendations = collaborative_filtering(user_id, users_df)\n",
    "print(\"Collaborative Recommendations for User 1:\")\n",
    "print(collab_recommendations)"
   ]
  },
  {
   "cell_type": "markdown",
   "metadata": {},
   "source": [
    "### 4. Hybrid Approach"
   ]
  },
  {
   "cell_type": "code",
   "execution_count": null,
   "metadata": {},
   "outputs": [],
   "source": [
    "# Function to combine content-based and collaborative filtering\n",
    "def hybrid_recommendation(user_id, users_df, videos_df, n_recommendations=5):\n",
    "    content_based_recommendations = recommend_videos(user_id, users_df.loc[users_df['user_id'] == user_id, 'watch_history'].values[0])\n",
    "    collaborative_recommendations = collaborative_filtering(user_id, users_df)\n",
    "    \n",
    "    hybrid_recommendations = pd.concat([content_based_recommendations, collaborative_recommendations]).drop_duplicates().head(n_recommendations)\n",
    "    return hybrid_recommendations"
   ]
  },
  {
   "cell_type": "code",
   "execution_count": null,
   "metadata": {},
   "outputs": [],
   "source": [
    "# Example: Get hybrid recommendations for user 1\n",
    "hybrid_recommendations = hybrid_recommendation(user_id, users_df, videos_df)\n",
    "print(\"Hybrid Recommendations for User 1:\")\n",
    "print(hybrid_recommendations)"
   ]
  }
 ],
 "metadata": {
  "kernelspec": {
   "display_name": "Python 3",
   "language": "python",
   "name": "python3"
  },
  "language_info": {
   "codemirror_mode": {
    "name": "ipython",
    "version": 3
   },
   "file_extension": ".py",
   "mimetype": "text/x-python",
   "name": "python",
   "nbconvert_exporter": "python",
   "pygments_lexer": "ipython3",
   "version": "3.12.5"
  }
 },
 "nbformat": 4,
 "nbformat_minor": 2
}
